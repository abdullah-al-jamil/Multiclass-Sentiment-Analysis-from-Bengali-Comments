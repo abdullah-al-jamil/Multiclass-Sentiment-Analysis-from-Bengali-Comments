{
  "nbformat": 4,
  "nbformat_minor": 0,
  "metadata": {
    "colab": {
      "name": "sentiment GRU (3 class).ipynb",
      "provenance": [],
      "authorship_tag": "ABX9TyMpLUpJFp2RPbtrnJmNJt1V",
      "include_colab_link": true
    },
    "kernelspec": {
      "name": "python3",
      "display_name": "Python 3"
    }
  },
  "cells": [
    {
      "cell_type": "markdown",
      "metadata": {
        "id": "view-in-github",
        "colab_type": "text"
      },
      "source": [
        "<a href=\"https://colab.research.google.com/github/abdullah-al-jamil/Sentiment-Analysis/blob/main/sentiment_GRU_(3_class).ipynb\" target=\"_parent\"><img src=\"https://colab.research.google.com/assets/colab-badge.svg\" alt=\"Open In Colab\"/></a>"
      ]
    },
    {
      "cell_type": "code",
      "metadata": {
        "id": "Jq9DSBJQy5K6"
      },
      "source": [
        "try: \r\n",
        "  %tensorflow_version 2.x\r\n",
        "except Exception:\r\n",
        "  pass\r\n",
        "\r\n",
        "import tensorflow as tf\r\n",
        "keras = tf.keras"
      ],
      "execution_count": null,
      "outputs": []
    },
    {
      "cell_type": "code",
      "metadata": {
        "id": "0yoMMhMwzGf4"
      },
      "source": [
        "import gensim, re\r\n",
        "import numpy as np\r\n",
        "import pandas as pd"
      ],
      "execution_count": null,
      "outputs": []
    },
    {
      "cell_type": "code",
      "metadata": {
        "colab": {
          "base_uri": "https://localhost:8080/"
        },
        "id": "569kOwtHzWOG",
        "outputId": "aa7836da-e72f-47b4-a8fa-b0784944c419"
      },
      "source": [
        "!wget https://raw.githubusercontent.com/abdullah-al-jamil/Emotion-and-Sentiment-Analysis/main/Sentiment.csv -P \"/content/drive/My Drive/app\""
      ],
      "execution_count": null,
      "outputs": [
        {
          "output_type": "stream",
          "text": [
            "--2021-02-13 14:31:13--  https://raw.githubusercontent.com/abdullah-al-jamil/Emotion-and-Sentiment-Analysis/main/Sentiment.csv\n",
            "Resolving raw.githubusercontent.com (raw.githubusercontent.com)... 185.199.109.133, 185.199.111.133, 185.199.110.133, ...\n",
            "Connecting to raw.githubusercontent.com (raw.githubusercontent.com)|185.199.109.133|:443... connected.\n",
            "HTTP request sent, awaiting response... 200 OK\n",
            "Length: 1235571 (1.2M) [text/plain]\n",
            "Saving to: ‘/content/drive/My Drive/app/Sentiment.csv’\n",
            "\n",
            "Sentiment.csv       100%[===================>]   1.18M  --.-KB/s    in 0.04s   \n",
            "\n",
            "2021-02-13 14:31:14 (27.5 MB/s) - ‘/content/drive/My Drive/app/Sentiment.csv’ saved [1235571/1235571]\n",
            "\n"
          ],
          "name": "stdout"
        }
      ]
    },
    {
      "cell_type": "code",
      "metadata": {
        "colab": {
          "base_uri": "https://localhost:8080/",
          "height": 204
        },
        "id": "ieY_wB4gzYPJ",
        "outputId": "2115306d-67c6-4ab1-ac2b-9394166f7d55"
      },
      "source": [
        "df = pd.read_csv('/content/drive/My Drive/app/Sentiment.csv', sep=';')\r\n",
        "df.head(5)"
      ],
      "execution_count": null,
      "outputs": [
        {
          "output_type": "execute_result",
          "data": {
            "text/html": [
              "<div>\n",
              "<style scoped>\n",
              "    .dataframe tbody tr th:only-of-type {\n",
              "        vertical-align: middle;\n",
              "    }\n",
              "\n",
              "    .dataframe tbody tr th {\n",
              "        vertical-align: top;\n",
              "    }\n",
              "\n",
              "    .dataframe thead th {\n",
              "        text-align: right;\n",
              "    }\n",
              "</style>\n",
              "<table border=\"1\" class=\"dataframe\">\n",
              "  <thead>\n",
              "    <tr style=\"text-align: right;\">\n",
              "      <th></th>\n",
              "      <th>id</th>\n",
              "      <th>text</th>\n",
              "      <th>label</th>\n",
              "      <th>score</th>\n",
              "      <th>lan</th>\n",
              "      <th>domain</th>\n",
              "    </tr>\n",
              "  </thead>\n",
              "  <tbody>\n",
              "    <tr>\n",
              "      <th>0</th>\n",
              "      <td>2283</td>\n",
              "      <td>Your are very good. keep it up</td>\n",
              "      <td>1</td>\n",
              "      <td>1</td>\n",
              "      <td>EN</td>\n",
              "      <td>funny_video</td>\n",
              "    </tr>\n",
              "    <tr>\n",
              "      <th>1</th>\n",
              "      <td>2286</td>\n",
              "      <td>চাকিপ ক্যানের মুবি রিব্যু বেচি বেচি</td>\n",
              "      <td>1</td>\n",
              "      <td>0</td>\n",
              "      <td>BN</td>\n",
              "      <td>funny_video</td>\n",
              "    </tr>\n",
              "    <tr>\n",
              "      <th>2</th>\n",
              "      <td>2289</td>\n",
              "      <td>আপনি বাংলাদেশী এইটা সত্যি অবাক করার বিষয়</td>\n",
              "      <td>1</td>\n",
              "      <td>0</td>\n",
              "      <td>BN</td>\n",
              "      <td>funny_video</td>\n",
              "    </tr>\n",
              "    <tr>\n",
              "      <th>3</th>\n",
              "      <td>2296</td>\n",
              "      <td>নতুন নতুন সিমেনার চাই</td>\n",
              "      <td>1</td>\n",
              "      <td>0</td>\n",
              "      <td>BN</td>\n",
              "      <td>funny_video</td>\n",
              "    </tr>\n",
              "    <tr>\n",
              "      <th>4</th>\n",
              "      <td>2300</td>\n",
              "      <td>Eto buddhi kibhabe shomvob</td>\n",
              "      <td>2</td>\n",
              "      <td>1</td>\n",
              "      <td>RN</td>\n",
              "      <td>funny_video</td>\n",
              "    </tr>\n",
              "  </tbody>\n",
              "</table>\n",
              "</div>"
            ],
            "text/plain": [
              "     id                                      text  ...  lan       domain\n",
              "0  2283            Your are very good. keep it up  ...   EN  funny_video\n",
              "1  2286       চাকিপ ক্যানের মুবি রিব্যু বেচি বেচি  ...   BN  funny_video\n",
              "2  2289  আপনি বাংলাদেশী এইটা সত্যি অবাক করার বিষয়  ...   BN  funny_video\n",
              "3  2296                     নতুন নতুন সিমেনার চাই  ...   BN  funny_video\n",
              "4  2300                Eto buddhi kibhabe shomvob  ...   RN  funny_video\n",
              "\n",
              "[5 rows x 6 columns]"
            ]
          },
          "metadata": {
            "tags": []
          },
          "execution_count": 5
        }
      ]
    },
    {
      "cell_type": "code",
      "metadata": {
        "colab": {
          "base_uri": "https://localhost:8080/"
        },
        "id": "8VYUbVR_zbVI",
        "outputId": "8e1d21c8-58c1-419a-f504-9f9295fc9a8c"
      },
      "source": [
        "df1 = df[df.lan=='BN']\r\n",
        "len(df1)"
      ],
      "execution_count": null,
      "outputs": [
        {
          "output_type": "execute_result",
          "data": {
            "text/plain": [
              "2797"
            ]
          },
          "metadata": {
            "tags": []
          },
          "execution_count": 6
        }
      ]
    },
    {
      "cell_type": "code",
      "metadata": {
        "id": "qprLVVqXzd8A"
      },
      "source": [
        "df2 = df1.copy()\r\n",
        "df2['score'] = np.where(df1['score']==2, 1,  df1['score'])\r\n",
        "\r\n",
        "\r\n",
        "df3 = df2.copy()\r\n",
        "df3['score'] = np.where(df2['score']==-2, -1,  df2['score'])"
      ],
      "execution_count": null,
      "outputs": []
    },
    {
      "cell_type": "code",
      "metadata": {
        "colab": {
          "base_uri": "https://localhost:8080/"
        },
        "id": "GqPfQJRVzgVP",
        "outputId": "1cffc597-6328-43a3-ec94-9daf578828cd"
      },
      "source": [
        "!wget https://raw.githubusercontent.com/abdullah-al-jamil/Emotion-and-Sentiment-Analysis/main/stop_words.txt -P \"/content/drive/My Drive/app\"\r\n",
        "with open('/content/drive/My Drive/app/stop_words.txt', \"r\") as file1:\r\n",
        "    stopwords = file1.read()"
      ],
      "execution_count": null,
      "outputs": [
        {
          "output_type": "stream",
          "text": [
            "--2021-02-13 14:31:58--  https://raw.githubusercontent.com/abdullah-al-jamil/Emotion-and-Sentiment-Analysis/main/stop_words.txt\n",
            "Resolving raw.githubusercontent.com (raw.githubusercontent.com)... 185.199.108.133, 185.199.110.133, 185.199.109.133, ...\n",
            "Connecting to raw.githubusercontent.com (raw.githubusercontent.com)|185.199.108.133|:443... connected.\n",
            "HTTP request sent, awaiting response... 200 OK\n",
            "Length: 10442 (10K) [text/plain]\n",
            "Saving to: ‘/content/drive/My Drive/app/stop_words.txt’\n",
            "\n",
            "stop_words.txt      100%[===================>]  10.20K  --.-KB/s    in 0s      \n",
            "\n",
            "2021-02-13 14:31:58 (62.7 MB/s) - ‘/content/drive/My Drive/app/stop_words.txt’ saved [10442/10442]\n",
            "\n"
          ],
          "name": "stdout"
        }
      ]
    },
    {
      "cell_type": "code",
      "metadata": {
        "colab": {
          "base_uri": "https://localhost:8080/",
          "height": 204
        },
        "id": "qnaRnZPTzjK2",
        "outputId": "2a6dbcb9-e07f-4988-eb01-f4e5f09a926f"
      },
      "source": [
        "def pre_process(sentence):\r\n",
        "  #remove link\r\n",
        "  sentence = re.sub(r'https?:\\/\\/.*[\\r\\n]*', '', sentence)\r\n",
        "  sentence = re.sub(r'[^\\u0980-\\u09FF ]+', '', sentence)\r\n",
        "  words = sentence.split()\r\n",
        "  new_sentence = ''\r\n",
        "\r\n",
        "  for word in words:\r\n",
        "    if word not in stopwords:\r\n",
        "      new_sentence += (word + \" \")\r\n",
        "  return new_sentence\r\n",
        "\r\n",
        "sentences = []\r\n",
        "temp_sentences = df3['text']\r\n",
        "\r\n",
        "for i in temp_sentences:\r\n",
        "  sentences.append(pre_process(i))\r\n",
        "\r\n",
        "df3['text'] = sentences\r\n",
        "df3.head()\r\n"
      ],
      "execution_count": null,
      "outputs": [
        {
          "output_type": "execute_result",
          "data": {
            "text/html": [
              "<div>\n",
              "<style scoped>\n",
              "    .dataframe tbody tr th:only-of-type {\n",
              "        vertical-align: middle;\n",
              "    }\n",
              "\n",
              "    .dataframe tbody tr th {\n",
              "        vertical-align: top;\n",
              "    }\n",
              "\n",
              "    .dataframe thead th {\n",
              "        text-align: right;\n",
              "    }\n",
              "</style>\n",
              "<table border=\"1\" class=\"dataframe\">\n",
              "  <thead>\n",
              "    <tr style=\"text-align: right;\">\n",
              "      <th></th>\n",
              "      <th>id</th>\n",
              "      <th>text</th>\n",
              "      <th>label</th>\n",
              "      <th>score</th>\n",
              "      <th>lan</th>\n",
              "      <th>domain</th>\n",
              "    </tr>\n",
              "  </thead>\n",
              "  <tbody>\n",
              "    <tr>\n",
              "      <th>1</th>\n",
              "      <td>2286</td>\n",
              "      <td>চাকিপ ক্যানের মুবি রিব্যু বেচি বেচি</td>\n",
              "      <td>1</td>\n",
              "      <td>0</td>\n",
              "      <td>BN</td>\n",
              "      <td>funny_video</td>\n",
              "    </tr>\n",
              "    <tr>\n",
              "      <th>2</th>\n",
              "      <td>2289</td>\n",
              "      <td>বাংলাদেশী এইটা সত্যি অবাক</td>\n",
              "      <td>1</td>\n",
              "      <td>0</td>\n",
              "      <td>BN</td>\n",
              "      <td>funny_video</td>\n",
              "    </tr>\n",
              "    <tr>\n",
              "      <th>3</th>\n",
              "      <td>2296</td>\n",
              "      <td>সিমেনার চাই</td>\n",
              "      <td>1</td>\n",
              "      <td>0</td>\n",
              "      <td>BN</td>\n",
              "      <td>funny_video</td>\n",
              "    </tr>\n",
              "    <tr>\n",
              "      <th>8</th>\n",
              "      <td>2318</td>\n",
              "      <td>হালা গোরা হালা</td>\n",
              "      <td>1</td>\n",
              "      <td>-1</td>\n",
              "      <td>BN</td>\n",
              "      <td>funny_video</td>\n",
              "    </tr>\n",
              "    <tr>\n",
              "      <th>9</th>\n",
              "      <td>2319</td>\n",
              "      <td>সুপার দুপার</td>\n",
              "      <td>1</td>\n",
              "      <td>1</td>\n",
              "      <td>BN</td>\n",
              "      <td>funny_video</td>\n",
              "    </tr>\n",
              "  </tbody>\n",
              "</table>\n",
              "</div>"
            ],
            "text/plain": [
              "     id                                  text  label  score lan       domain\n",
              "1  2286  চাকিপ ক্যানের মুবি রিব্যু বেচি বেচি       1      0  BN  funny_video\n",
              "2  2289            বাংলাদেশী এইটা সত্যি অবাক       1      0  BN  funny_video\n",
              "3  2296                          সিমেনার চাই       1      0  BN  funny_video\n",
              "8  2318                       হালা গোরা হালা       1     -1  BN  funny_video\n",
              "9  2319                          সুপার দুপার       1      1  BN  funny_video"
            ]
          },
          "metadata": {
            "tags": []
          },
          "execution_count": 9
        }
      ]
    },
    {
      "cell_type": "code",
      "metadata": {
        "colab": {
          "base_uri": "https://localhost:8080/"
        },
        "id": "0tTFODvhzqOx",
        "outputId": "6464a053-1f66-4ddc-c374-712703c9f43b"
      },
      "source": [
        "fisible = []\r\n",
        "for sentence in sentences:\r\n",
        "  if len(sentence.split())<=30:\r\n",
        "    fisible.append(1)\r\n",
        "  else:\r\n",
        "    fisible.append(0)\r\n",
        "\r\n",
        "df3['fisible'] = fisible\r\n",
        "len(df3)"
      ],
      "execution_count": null,
      "outputs": [
        {
          "output_type": "execute_result",
          "data": {
            "text/plain": [
              "2797"
            ]
          },
          "metadata": {
            "tags": []
          },
          "execution_count": 10
        }
      ]
    },
    {
      "cell_type": "code",
      "metadata": {
        "colab": {
          "base_uri": "https://localhost:8080/"
        },
        "id": "hRvCNXqezuaZ",
        "outputId": "1b359fa1-8bd9-4f95-a61e-33e78e2dd67c"
      },
      "source": [
        "df4 = df3[df3.fisible==1]\r\n",
        "len(df4)"
      ],
      "execution_count": null,
      "outputs": [
        {
          "output_type": "execute_result",
          "data": {
            "text/plain": [
              "2689"
            ]
          },
          "metadata": {
            "tags": []
          },
          "execution_count": 11
        }
      ]
    },
    {
      "cell_type": "code",
      "metadata": {
        "colab": {
          "base_uri": "https://localhost:8080/",
          "height": 419
        },
        "id": "0Gqir_WJzxSi",
        "outputId": "c79da369-7884-4cf5-82c7-c89e407a1638"
      },
      "source": [
        "labels = []\r\n",
        "for i in df4['score']:\r\n",
        "  labels.append(i)\r\n",
        "\r\n",
        "y = np.asarray(pd.get_dummies(labels))\r\n",
        "pd.get_dummies(labels)\r\n"
      ],
      "execution_count": null,
      "outputs": [
        {
          "output_type": "execute_result",
          "data": {
            "text/html": [
              "<div>\n",
              "<style scoped>\n",
              "    .dataframe tbody tr th:only-of-type {\n",
              "        vertical-align: middle;\n",
              "    }\n",
              "\n",
              "    .dataframe tbody tr th {\n",
              "        vertical-align: top;\n",
              "    }\n",
              "\n",
              "    .dataframe thead th {\n",
              "        text-align: right;\n",
              "    }\n",
              "</style>\n",
              "<table border=\"1\" class=\"dataframe\">\n",
              "  <thead>\n",
              "    <tr style=\"text-align: right;\">\n",
              "      <th></th>\n",
              "      <th>-1</th>\n",
              "      <th>0</th>\n",
              "      <th>1</th>\n",
              "    </tr>\n",
              "  </thead>\n",
              "  <tbody>\n",
              "    <tr>\n",
              "      <th>0</th>\n",
              "      <td>0</td>\n",
              "      <td>1</td>\n",
              "      <td>0</td>\n",
              "    </tr>\n",
              "    <tr>\n",
              "      <th>1</th>\n",
              "      <td>0</td>\n",
              "      <td>1</td>\n",
              "      <td>0</td>\n",
              "    </tr>\n",
              "    <tr>\n",
              "      <th>2</th>\n",
              "      <td>0</td>\n",
              "      <td>1</td>\n",
              "      <td>0</td>\n",
              "    </tr>\n",
              "    <tr>\n",
              "      <th>3</th>\n",
              "      <td>1</td>\n",
              "      <td>0</td>\n",
              "      <td>0</td>\n",
              "    </tr>\n",
              "    <tr>\n",
              "      <th>4</th>\n",
              "      <td>0</td>\n",
              "      <td>0</td>\n",
              "      <td>1</td>\n",
              "    </tr>\n",
              "    <tr>\n",
              "      <th>...</th>\n",
              "      <td>...</td>\n",
              "      <td>...</td>\n",
              "      <td>...</td>\n",
              "    </tr>\n",
              "    <tr>\n",
              "      <th>2684</th>\n",
              "      <td>1</td>\n",
              "      <td>0</td>\n",
              "      <td>0</td>\n",
              "    </tr>\n",
              "    <tr>\n",
              "      <th>2685</th>\n",
              "      <td>1</td>\n",
              "      <td>0</td>\n",
              "      <td>0</td>\n",
              "    </tr>\n",
              "    <tr>\n",
              "      <th>2686</th>\n",
              "      <td>1</td>\n",
              "      <td>0</td>\n",
              "      <td>0</td>\n",
              "    </tr>\n",
              "    <tr>\n",
              "      <th>2687</th>\n",
              "      <td>1</td>\n",
              "      <td>0</td>\n",
              "      <td>0</td>\n",
              "    </tr>\n",
              "    <tr>\n",
              "      <th>2688</th>\n",
              "      <td>1</td>\n",
              "      <td>0</td>\n",
              "      <td>0</td>\n",
              "    </tr>\n",
              "  </tbody>\n",
              "</table>\n",
              "<p>2689 rows × 3 columns</p>\n",
              "</div>"
            ],
            "text/plain": [
              "      -1   0   1\n",
              "0      0   1   0\n",
              "1      0   1   0\n",
              "2      0   1   0\n",
              "3      1   0   0\n",
              "4      0   0   1\n",
              "...   ..  ..  ..\n",
              "2684   1   0   0\n",
              "2685   1   0   0\n",
              "2686   1   0   0\n",
              "2687   1   0   0\n",
              "2688   1   0   0\n",
              "\n",
              "[2689 rows x 3 columns]"
            ]
          },
          "metadata": {
            "tags": []
          },
          "execution_count": 13
        }
      ]
    },
    {
      "cell_type": "code",
      "metadata": {
        "id": "th4ToF8lzzdx"
      },
      "source": [
        "vocab_size = 1000\r\n",
        "embedding_dim = 100\r\n",
        "max_length = 30\r\n",
        "trunc_type='post'\r\n",
        "oov_tok = \"<OOV>\"\r\n",
        "\r\n",
        "\r\n",
        "from tensorflow.keras.preprocessing.text import Tokenizer\r\n",
        "from tensorflow.keras.preprocessing.sequence import pad_sequences\r\n",
        "\r\n",
        "tokenizer = Tokenizer(num_words = vocab_size, oov_token=oov_tok)\r\n",
        "tokenizer.fit_on_texts(df4.text)\r\n",
        "word_index = tokenizer.word_index\r\n",
        "sequences = tokenizer.texts_to_sequences(df4.text)\r\n",
        "padded = pad_sequences(sequences,maxlen=max_length, padding='post')"
      ],
      "execution_count": null,
      "outputs": []
    },
    {
      "cell_type": "code",
      "metadata": {
        "colab": {
          "base_uri": "https://localhost:8080/"
        },
        "id": "3adYubBWz6QW",
        "outputId": "8c03fcb1-7ef3-4692-c468-a39a0f9e39ab"
      },
      "source": [
        "model = tf.keras.Sequential([\r\n",
        "    tf.keras.layers.Embedding(vocab_size, embedding_dim, input_length=max_length, trainable=True),\r\n",
        "    tf.keras.layers.Bidirectional(tf.keras.layers.GRU(300, return_sequences=False)),\r\n",
        "    tf.keras.layers.Dense(y.shape[1], activation='softmax')\r\n",
        "])\r\n",
        "model.compile(loss='categorical_crossentropy',optimizer='adam',metrics=['accuracy'])\r\n",
        "model.summary()\r\n"
      ],
      "execution_count": null,
      "outputs": [
        {
          "output_type": "stream",
          "text": [
            "Model: \"sequential\"\n",
            "_________________________________________________________________\n",
            "Layer (type)                 Output Shape              Param #   \n",
            "=================================================================\n",
            "embedding (Embedding)        (None, 30, 100)           100000    \n",
            "_________________________________________________________________\n",
            "bidirectional (Bidirectional (None, 600)               723600    \n",
            "_________________________________________________________________\n",
            "dense (Dense)                (None, 3)                 1803      \n",
            "=================================================================\n",
            "Total params: 825,403\n",
            "Trainable params: 825,403\n",
            "Non-trainable params: 0\n",
            "_________________________________________________________________\n"
          ],
          "name": "stdout"
        }
      ]
    },
    {
      "cell_type": "code",
      "metadata": {
        "id": "oCJWPAdw0BeO"
      },
      "source": [
        "from sklearn.model_selection import train_test_split\r\n",
        "\r\n",
        "X_train, X_test, y_train, y_test = train_test_split(padded, y, test_size=0.2, shuffle=True)"
      ],
      "execution_count": null,
      "outputs": []
    },
    {
      "cell_type": "code",
      "metadata": {
        "colab": {
          "base_uri": "https://localhost:8080/"
        },
        "id": "t-cOc69W0F5m",
        "outputId": "8d77bed0-355c-471e-a719-b057f5ce49ed"
      },
      "source": [
        "num_epochs = 6\r\n",
        "history = model.fit(X_train, y_train, epochs=num_epochs, validation_data=(X_test, y_test))"
      ],
      "execution_count": null,
      "outputs": [
        {
          "output_type": "stream",
          "text": [
            "Epoch 1/6\n",
            "68/68 [==============================] - 19s 229ms/step - loss: 1.0455 - accuracy: 0.4891 - val_loss: 0.8685 - val_accuracy: 0.6171\n",
            "Epoch 2/6\n",
            "68/68 [==============================] - 14s 213ms/step - loss: 0.7772 - accuracy: 0.6528 - val_loss: 0.7808 - val_accuracy: 0.6599\n",
            "Epoch 3/6\n",
            "68/68 [==============================] - 14s 212ms/step - loss: 0.6027 - accuracy: 0.7464 - val_loss: 0.7818 - val_accuracy: 0.6784\n",
            "Epoch 4/6\n",
            "68/68 [==============================] - 14s 212ms/step - loss: 0.5170 - accuracy: 0.7972 - val_loss: 0.8519 - val_accuracy: 0.6543\n",
            "Epoch 5/6\n",
            "68/68 [==============================] - 14s 212ms/step - loss: 0.4623 - accuracy: 0.7912 - val_loss: 0.8786 - val_accuracy: 0.6543\n",
            "Epoch 6/6\n",
            "68/68 [==============================] - 14s 211ms/step - loss: 0.4177 - accuracy: 0.8256 - val_loss: 0.9519 - val_accuracy: 0.6729\n"
          ],
          "name": "stdout"
        }
      ]
    },
    {
      "cell_type": "code",
      "metadata": {
        "colab": {
          "base_uri": "https://localhost:8080/"
        },
        "id": "_q2RuvAN0IR-",
        "outputId": "09047087-9afb-4d58-bf64-75eace5c17e5"
      },
      "source": [
        "model.evaluate(X_test, y_test)"
      ],
      "execution_count": null,
      "outputs": [
        {
          "output_type": "stream",
          "text": [
            "17/17 [==============================] - 1s 49ms/step - loss: 0.9519 - accuracy: 0.6729\n"
          ],
          "name": "stdout"
        },
        {
          "output_type": "execute_result",
          "data": {
            "text/plain": [
              "[0.951867401599884, 0.6728624701499939]"
            ]
          },
          "metadata": {
            "tags": []
          },
          "execution_count": 18
        }
      ]
    },
    {
      "cell_type": "code",
      "metadata": {
        "colab": {
          "base_uri": "https://localhost:8080/"
        },
        "id": "CuxYYaZP0L6G",
        "outputId": "2d2fff6d-0989-44f9-f92b-9fb47093b45a"
      },
      "source": [
        "pred = model.predict(X_test);\r\n",
        "pred[0].max()"
      ],
      "execution_count": null,
      "outputs": [
        {
          "output_type": "execute_result",
          "data": {
            "text/plain": [
              "0.47778973"
            ]
          },
          "metadata": {
            "tags": []
          },
          "execution_count": 19
        }
      ]
    },
    {
      "cell_type": "code",
      "metadata": {
        "colab": {
          "base_uri": "https://localhost:8080/"
        },
        "id": "tdN1Abml0OO_",
        "outputId": "0e4aef6e-4e59-4719-e792-0bc03b7a5f06"
      },
      "source": [
        "for i in range(len(pred)):\r\n",
        "  if pred[i][0]==pred[i].max():\r\n",
        "    pred[i][0] = 1\r\n",
        "    pred[i][1] = 0\r\n",
        "    pred[i][2] = 0\r\n",
        "  \r\n",
        "  elif pred[i][1]==pred[i].max():\r\n",
        "    pred[i][0] = 0\r\n",
        "    pred[i][1] = 1\r\n",
        "    pred[i][2] = 0\r\n",
        "\r\n",
        "  else: \r\n",
        "    pred[i][0] = 0\r\n",
        "    pred[i][1] = 0\r\n",
        "    pred[i][2] = 1\r\n",
        "  \r\n",
        "pred[0]\r\n"
      ],
      "execution_count": null,
      "outputs": [
        {
          "output_type": "execute_result",
          "data": {
            "text/plain": [
              "array([0., 1., 0.], dtype=float32)"
            ]
          },
          "metadata": {
            "tags": []
          },
          "execution_count": 20
        }
      ]
    },
    {
      "cell_type": "code",
      "metadata": {
        "colab": {
          "base_uri": "https://localhost:8080/"
        },
        "id": "9yNh-AJ00RWQ",
        "outputId": "36fcbf52-5ae3-43b5-a175-cb3630e8eed8"
      },
      "source": [
        "from sklearn.metrics import f1_score\r\n",
        "f1_score(y_test, pred, average='micro')"
      ],
      "execution_count": null,
      "outputs": [
        {
          "output_type": "execute_result",
          "data": {
            "text/plain": [
              "0.6728624535315985"
            ]
          },
          "metadata": {
            "tags": []
          },
          "execution_count": 21
        }
      ]
    },
    {
      "cell_type": "code",
      "metadata": {
        "colab": {
          "base_uri": "https://localhost:8080/"
        },
        "id": "W_HQyGlB0Ugj",
        "outputId": "d906b073-df0c-4dac-9b7a-922bf23ecd24"
      },
      "source": [
        "from sklearn.metrics import f1_score\r\n",
        "f1_score(y_test, pred, average='weighted')"
      ],
      "execution_count": null,
      "outputs": [
        {
          "output_type": "execute_result",
          "data": {
            "text/plain": [
              "0.6736391968572346"
            ]
          },
          "metadata": {
            "tags": []
          },
          "execution_count": 22
        }
      ]
    },
    {
      "cell_type": "code",
      "metadata": {
        "id": "7qQh-VqB0Wgv"
      },
      "source": [
        ""
      ],
      "execution_count": null,
      "outputs": []
    }
  ]
}