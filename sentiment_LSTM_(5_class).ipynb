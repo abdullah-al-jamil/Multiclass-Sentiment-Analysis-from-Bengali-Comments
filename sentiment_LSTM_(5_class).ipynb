{
  "nbformat": 4,
  "nbformat_minor": 0,
  "metadata": {
    "colab": {
      "name": "sentiment LSTM (5 class).ipynb",
      "provenance": [],
      "collapsed_sections": [],
      "authorship_tag": "ABX9TyM5f2UVuNCaNMV0i4ONkJHU",
      "include_colab_link": true
    },
    "kernelspec": {
      "name": "python3",
      "display_name": "Python 3"
    }
  },
  "cells": [
    {
      "cell_type": "markdown",
      "metadata": {
        "id": "view-in-github",
        "colab_type": "text"
      },
      "source": [
        "<a href=\"https://colab.research.google.com/github/abdullah-al-jamil/Sentiment-Analysis/blob/main/sentiment_LSTM_(5_class).ipynb\" target=\"_parent\"><img src=\"https://colab.research.google.com/assets/colab-badge.svg\" alt=\"Open In Colab\"/></a>"
      ]
    },
    {
      "cell_type": "code",
      "metadata": {
        "id": "EXbrx4r23u6B"
      },
      "source": [
        "try: \r\n",
        "  %tensorflow_version 2.x\r\n",
        "except Exception:\r\n",
        "  pass\r\n",
        "\r\n",
        "import tensorflow as tf\r\n",
        "keras = tf.keras"
      ],
      "execution_count": null,
      "outputs": []
    },
    {
      "cell_type": "code",
      "metadata": {
        "id": "5Y4pe1ei33P8"
      },
      "source": [
        "import gensim, re\r\n",
        "import numpy as np\r\n",
        "import pandas as pd"
      ],
      "execution_count": null,
      "outputs": []
    },
    {
      "cell_type": "code",
      "metadata": {
        "colab": {
          "base_uri": "https://localhost:8080/"
        },
        "id": "sXo2dCrc39Sp",
        "outputId": "ab382760-2e98-4503-81c3-b3887dd3990c"
      },
      "source": [
        "!wget https://raw.githubusercontent.com/abdullah-al-jamil/Emotion-and-Sentiment-Analysis/main/Sentiment.csv -P \"/content/drive/My Drive/app\""
      ],
      "execution_count": null,
      "outputs": [
        {
          "output_type": "stream",
          "text": [
            "--2021-01-12 19:07:09--  https://raw.githubusercontent.com/abdullah-al-jamil/Emotion-and-Sentiment-Analysis/main/Sentiment.csv\n",
            "Resolving raw.githubusercontent.com (raw.githubusercontent.com)... 151.101.0.133, 151.101.64.133, 151.101.128.133, ...\n",
            "Connecting to raw.githubusercontent.com (raw.githubusercontent.com)|151.101.0.133|:443... connected.\n",
            "HTTP request sent, awaiting response... 200 OK\n",
            "Length: 1235571 (1.2M) [text/plain]\n",
            "Saving to: ‘/content/drive/My Drive/app/Sentiment.csv’\n",
            "\n",
            "Sentiment.csv       100%[===================>]   1.18M  --.-KB/s    in 0.08s   \n",
            "\n",
            "2021-01-12 19:07:09 (15.3 MB/s) - ‘/content/drive/My Drive/app/Sentiment.csv’ saved [1235571/1235571]\n",
            "\n"
          ],
          "name": "stdout"
        }
      ]
    },
    {
      "cell_type": "code",
      "metadata": {
        "colab": {
          "base_uri": "https://localhost:8080/",
          "height": 204
        },
        "id": "As-tUQ143_wA",
        "outputId": "852e3c88-3f8a-464f-85eb-48f17fb60193"
      },
      "source": [
        "df = pd.read_csv('/content/drive/My Drive/app/Sentiment.csv', sep=';')\r\n",
        "df.head(5)"
      ],
      "execution_count": null,
      "outputs": [
        {
          "output_type": "execute_result",
          "data": {
            "text/html": [
              "<div>\n",
              "<style scoped>\n",
              "    .dataframe tbody tr th:only-of-type {\n",
              "        vertical-align: middle;\n",
              "    }\n",
              "\n",
              "    .dataframe tbody tr th {\n",
              "        vertical-align: top;\n",
              "    }\n",
              "\n",
              "    .dataframe thead th {\n",
              "        text-align: right;\n",
              "    }\n",
              "</style>\n",
              "<table border=\"1\" class=\"dataframe\">\n",
              "  <thead>\n",
              "    <tr style=\"text-align: right;\">\n",
              "      <th></th>\n",
              "      <th>id</th>\n",
              "      <th>text</th>\n",
              "      <th>label</th>\n",
              "      <th>score</th>\n",
              "      <th>lan</th>\n",
              "      <th>domain</th>\n",
              "    </tr>\n",
              "  </thead>\n",
              "  <tbody>\n",
              "    <tr>\n",
              "      <th>0</th>\n",
              "      <td>2283</td>\n",
              "      <td>Your are very good. keep it up</td>\n",
              "      <td>1</td>\n",
              "      <td>1</td>\n",
              "      <td>EN</td>\n",
              "      <td>funny_video</td>\n",
              "    </tr>\n",
              "    <tr>\n",
              "      <th>1</th>\n",
              "      <td>2286</td>\n",
              "      <td>চাকিপ ক্যানের মুবি রিব্যু বেচি বেচি</td>\n",
              "      <td>1</td>\n",
              "      <td>0</td>\n",
              "      <td>BN</td>\n",
              "      <td>funny_video</td>\n",
              "    </tr>\n",
              "    <tr>\n",
              "      <th>2</th>\n",
              "      <td>2289</td>\n",
              "      <td>আপনি বাংলাদেশী এইটা সত্যি অবাক করার বিষয়</td>\n",
              "      <td>1</td>\n",
              "      <td>0</td>\n",
              "      <td>BN</td>\n",
              "      <td>funny_video</td>\n",
              "    </tr>\n",
              "    <tr>\n",
              "      <th>3</th>\n",
              "      <td>2296</td>\n",
              "      <td>নতুন নতুন সিমেনার চাই</td>\n",
              "      <td>1</td>\n",
              "      <td>0</td>\n",
              "      <td>BN</td>\n",
              "      <td>funny_video</td>\n",
              "    </tr>\n",
              "    <tr>\n",
              "      <th>4</th>\n",
              "      <td>2300</td>\n",
              "      <td>Eto buddhi kibhabe shomvob</td>\n",
              "      <td>2</td>\n",
              "      <td>1</td>\n",
              "      <td>RN</td>\n",
              "      <td>funny_video</td>\n",
              "    </tr>\n",
              "  </tbody>\n",
              "</table>\n",
              "</div>"
            ],
            "text/plain": [
              "     id                                      text  ...  lan       domain\n",
              "0  2283            Your are very good. keep it up  ...   EN  funny_video\n",
              "1  2286       চাকিপ ক্যানের মুবি রিব্যু বেচি বেচি  ...   BN  funny_video\n",
              "2  2289  আপনি বাংলাদেশী এইটা সত্যি অবাক করার বিষয়  ...   BN  funny_video\n",
              "3  2296                     নতুন নতুন সিমেনার চাই  ...   BN  funny_video\n",
              "4  2300                Eto buddhi kibhabe shomvob  ...   RN  funny_video\n",
              "\n",
              "[5 rows x 6 columns]"
            ]
          },
          "metadata": {
            "tags": []
          },
          "execution_count": 4
        }
      ]
    },
    {
      "cell_type": "code",
      "metadata": {
        "colab": {
          "base_uri": "https://localhost:8080/"
        },
        "id": "X4bfP6MS4Da4",
        "outputId": "60e882b4-8d75-4ae3-d703-4aaa95f24e20"
      },
      "source": [
        "df1 = df[df.lan=='BN']\r\n",
        "len(df1)"
      ],
      "execution_count": null,
      "outputs": [
        {
          "output_type": "execute_result",
          "data": {
            "text/plain": [
              "2797"
            ]
          },
          "metadata": {
            "tags": []
          },
          "execution_count": 5
        }
      ]
    },
    {
      "cell_type": "code",
      "metadata": {
        "colab": {
          "base_uri": "https://localhost:8080/"
        },
        "id": "7Qt--DgK4HNo",
        "outputId": "b53ca11d-a3f3-4d09-d54e-32746ff84494"
      },
      "source": [
        "!wget https://raw.githubusercontent.com/abdullah-al-jamil/Emotion-and-Sentiment-Analysis/main/stop_words.txt -P \"/content/drive/My Drive/app\"\r\n",
        "with open('/content/drive/My Drive/app/stop_words.txt', \"r\") as file1:\r\n",
        "    stopwords = file1.read()"
      ],
      "execution_count": null,
      "outputs": [
        {
          "output_type": "stream",
          "text": [
            "--2021-01-12 19:07:09--  https://raw.githubusercontent.com/abdullah-al-jamil/Emotion-and-Sentiment-Analysis/main/stop_words.txt\n",
            "Resolving raw.githubusercontent.com (raw.githubusercontent.com)... 151.101.0.133, 151.101.64.133, 151.101.128.133, ...\n",
            "Connecting to raw.githubusercontent.com (raw.githubusercontent.com)|151.101.0.133|:443... connected.\n",
            "HTTP request sent, awaiting response... 200 OK\n",
            "Length: 10442 (10K) [text/plain]\n",
            "Saving to: ‘/content/drive/My Drive/app/stop_words.txt’\n",
            "\n",
            "\rstop_words.txt        0%[                    ]       0  --.-KB/s               \rstop_words.txt      100%[===================>]  10.20K  --.-KB/s    in 0s      \n",
            "\n",
            "2021-01-12 19:07:10 (96.3 MB/s) - ‘/content/drive/My Drive/app/stop_words.txt’ saved [10442/10442]\n",
            "\n"
          ],
          "name": "stdout"
        }
      ]
    },
    {
      "cell_type": "code",
      "metadata": {
        "colab": {
          "base_uri": "https://localhost:8080/",
          "height": 289
        },
        "id": "7uQqE8074KoY",
        "outputId": "222be59a-bbf5-4b4c-a3cf-c2da5f3a74ea"
      },
      "source": [
        "def pre_process(sentence):\r\n",
        "  #remove link\r\n",
        "  sentence = re.sub(r'https?:\\/\\/.*[\\r\\n]*', '', sentence)\r\n",
        "  sentence = re.sub(r'[^\\u0980-\\u09FF ]+', '', sentence)\r\n",
        "  words = sentence.split()\r\n",
        "  new_sentence = ''\r\n",
        "\r\n",
        "  for word in words:\r\n",
        "    if word not in stopwords:\r\n",
        "      new_sentence += (word + \" \")\r\n",
        "  return new_sentence\r\n",
        "\r\n",
        "sentences = []\r\n",
        "temp_sentences = df1['text']\r\n",
        "\r\n",
        "for i in temp_sentences:\r\n",
        "  sentences.append(pre_process(i))\r\n",
        "\r\n",
        "df1['text'] = sentences\r\n",
        "df1.head()\r\n"
      ],
      "execution_count": null,
      "outputs": [
        {
          "output_type": "stream",
          "text": [
            "/usr/local/lib/python3.6/dist-packages/ipykernel_launcher.py:19: SettingWithCopyWarning: \n",
            "A value is trying to be set on a copy of a slice from a DataFrame.\n",
            "Try using .loc[row_indexer,col_indexer] = value instead\n",
            "\n",
            "See the caveats in the documentation: https://pandas.pydata.org/pandas-docs/stable/user_guide/indexing.html#returning-a-view-versus-a-copy\n"
          ],
          "name": "stderr"
        },
        {
          "output_type": "execute_result",
          "data": {
            "text/html": [
              "<div>\n",
              "<style scoped>\n",
              "    .dataframe tbody tr th:only-of-type {\n",
              "        vertical-align: middle;\n",
              "    }\n",
              "\n",
              "    .dataframe tbody tr th {\n",
              "        vertical-align: top;\n",
              "    }\n",
              "\n",
              "    .dataframe thead th {\n",
              "        text-align: right;\n",
              "    }\n",
              "</style>\n",
              "<table border=\"1\" class=\"dataframe\">\n",
              "  <thead>\n",
              "    <tr style=\"text-align: right;\">\n",
              "      <th></th>\n",
              "      <th>id</th>\n",
              "      <th>text</th>\n",
              "      <th>label</th>\n",
              "      <th>score</th>\n",
              "      <th>lan</th>\n",
              "      <th>domain</th>\n",
              "    </tr>\n",
              "  </thead>\n",
              "  <tbody>\n",
              "    <tr>\n",
              "      <th>1</th>\n",
              "      <td>2286</td>\n",
              "      <td>চাকিপ ক্যানের মুবি রিব্যু বেচি বেচি</td>\n",
              "      <td>1</td>\n",
              "      <td>0</td>\n",
              "      <td>BN</td>\n",
              "      <td>funny_video</td>\n",
              "    </tr>\n",
              "    <tr>\n",
              "      <th>2</th>\n",
              "      <td>2289</td>\n",
              "      <td>বাংলাদেশী এইটা সত্যি অবাক</td>\n",
              "      <td>1</td>\n",
              "      <td>0</td>\n",
              "      <td>BN</td>\n",
              "      <td>funny_video</td>\n",
              "    </tr>\n",
              "    <tr>\n",
              "      <th>3</th>\n",
              "      <td>2296</td>\n",
              "      <td>সিমেনার চাই</td>\n",
              "      <td>1</td>\n",
              "      <td>0</td>\n",
              "      <td>BN</td>\n",
              "      <td>funny_video</td>\n",
              "    </tr>\n",
              "    <tr>\n",
              "      <th>8</th>\n",
              "      <td>2318</td>\n",
              "      <td>হালা গোরা হালা</td>\n",
              "      <td>1</td>\n",
              "      <td>-1</td>\n",
              "      <td>BN</td>\n",
              "      <td>funny_video</td>\n",
              "    </tr>\n",
              "    <tr>\n",
              "      <th>9</th>\n",
              "      <td>2319</td>\n",
              "      <td>সুপার দুপার</td>\n",
              "      <td>1</td>\n",
              "      <td>1</td>\n",
              "      <td>BN</td>\n",
              "      <td>funny_video</td>\n",
              "    </tr>\n",
              "  </tbody>\n",
              "</table>\n",
              "</div>"
            ],
            "text/plain": [
              "     id                                  text  label  score lan       domain\n",
              "1  2286  চাকিপ ক্যানের মুবি রিব্যু বেচি বেচি       1      0  BN  funny_video\n",
              "2  2289            বাংলাদেশী এইটা সত্যি অবাক       1      0  BN  funny_video\n",
              "3  2296                          সিমেনার চাই       1      0  BN  funny_video\n",
              "8  2318                       হালা গোরা হালা       1     -1  BN  funny_video\n",
              "9  2319                          সুপার দুপার       1      1  BN  funny_video"
            ]
          },
          "metadata": {
            "tags": []
          },
          "execution_count": 7
        }
      ]
    },
    {
      "cell_type": "code",
      "metadata": {
        "colab": {
          "base_uri": "https://localhost:8080/"
        },
        "id": "vpQhxa5i4PrA",
        "outputId": "9dac1fe5-b5e9-480d-cfb5-aaaa8cb37214"
      },
      "source": [
        "fisible = []\r\n",
        "for sentence in sentences:\r\n",
        "  if len(sentence.split())<=30:\r\n",
        "    fisible.append(1)\r\n",
        "  else:\r\n",
        "    fisible.append(0)\r\n",
        "\r\n",
        "df1['fisible'] = fisible\r\n",
        "len(df1)"
      ],
      "execution_count": null,
      "outputs": [
        {
          "output_type": "stream",
          "text": [
            "/usr/local/lib/python3.6/dist-packages/ipykernel_launcher.py:8: SettingWithCopyWarning: \n",
            "A value is trying to be set on a copy of a slice from a DataFrame.\n",
            "Try using .loc[row_indexer,col_indexer] = value instead\n",
            "\n",
            "See the caveats in the documentation: https://pandas.pydata.org/pandas-docs/stable/user_guide/indexing.html#returning-a-view-versus-a-copy\n",
            "  \n"
          ],
          "name": "stderr"
        },
        {
          "output_type": "execute_result",
          "data": {
            "text/plain": [
              "2797"
            ]
          },
          "metadata": {
            "tags": []
          },
          "execution_count": 8
        }
      ]
    },
    {
      "cell_type": "code",
      "metadata": {
        "colab": {
          "base_uri": "https://localhost:8080/"
        },
        "id": "UuoPSVOV4fHp",
        "outputId": "599caec0-6491-49a9-dc2a-2f79ba665b74"
      },
      "source": [
        "df2 = df1[df1.fisible==1]\r\n",
        "len(df1)"
      ],
      "execution_count": null,
      "outputs": [
        {
          "output_type": "execute_result",
          "data": {
            "text/plain": [
              "2797"
            ]
          },
          "metadata": {
            "tags": []
          },
          "execution_count": 9
        }
      ]
    },
    {
      "cell_type": "code",
      "metadata": {
        "colab": {
          "base_uri": "https://localhost:8080/",
          "height": 419
        },
        "id": "AXuKZxmk4o-Q",
        "outputId": "76e1e218-ed30-4eea-c3af-1043d85e410c"
      },
      "source": [
        "labels = []\r\n",
        "for i in df2['score']:\r\n",
        "  labels.append(i)\r\n",
        "\r\n",
        "y = np.asarray(pd.get_dummies(labels))\r\n",
        "pd.get_dummies(labels)\r\n"
      ],
      "execution_count": null,
      "outputs": [
        {
          "output_type": "execute_result",
          "data": {
            "text/html": [
              "<div>\n",
              "<style scoped>\n",
              "    .dataframe tbody tr th:only-of-type {\n",
              "        vertical-align: middle;\n",
              "    }\n",
              "\n",
              "    .dataframe tbody tr th {\n",
              "        vertical-align: top;\n",
              "    }\n",
              "\n",
              "    .dataframe thead th {\n",
              "        text-align: right;\n",
              "    }\n",
              "</style>\n",
              "<table border=\"1\" class=\"dataframe\">\n",
              "  <thead>\n",
              "    <tr style=\"text-align: right;\">\n",
              "      <th></th>\n",
              "      <th>-2</th>\n",
              "      <th>-1</th>\n",
              "      <th>0</th>\n",
              "      <th>1</th>\n",
              "      <th>2</th>\n",
              "    </tr>\n",
              "  </thead>\n",
              "  <tbody>\n",
              "    <tr>\n",
              "      <th>0</th>\n",
              "      <td>0</td>\n",
              "      <td>0</td>\n",
              "      <td>1</td>\n",
              "      <td>0</td>\n",
              "      <td>0</td>\n",
              "    </tr>\n",
              "    <tr>\n",
              "      <th>1</th>\n",
              "      <td>0</td>\n",
              "      <td>0</td>\n",
              "      <td>1</td>\n",
              "      <td>0</td>\n",
              "      <td>0</td>\n",
              "    </tr>\n",
              "    <tr>\n",
              "      <th>2</th>\n",
              "      <td>0</td>\n",
              "      <td>0</td>\n",
              "      <td>1</td>\n",
              "      <td>0</td>\n",
              "      <td>0</td>\n",
              "    </tr>\n",
              "    <tr>\n",
              "      <th>3</th>\n",
              "      <td>0</td>\n",
              "      <td>1</td>\n",
              "      <td>0</td>\n",
              "      <td>0</td>\n",
              "      <td>0</td>\n",
              "    </tr>\n",
              "    <tr>\n",
              "      <th>4</th>\n",
              "      <td>0</td>\n",
              "      <td>0</td>\n",
              "      <td>0</td>\n",
              "      <td>1</td>\n",
              "      <td>0</td>\n",
              "    </tr>\n",
              "    <tr>\n",
              "      <th>...</th>\n",
              "      <td>...</td>\n",
              "      <td>...</td>\n",
              "      <td>...</td>\n",
              "      <td>...</td>\n",
              "      <td>...</td>\n",
              "    </tr>\n",
              "    <tr>\n",
              "      <th>2684</th>\n",
              "      <td>0</td>\n",
              "      <td>1</td>\n",
              "      <td>0</td>\n",
              "      <td>0</td>\n",
              "      <td>0</td>\n",
              "    </tr>\n",
              "    <tr>\n",
              "      <th>2685</th>\n",
              "      <td>0</td>\n",
              "      <td>1</td>\n",
              "      <td>0</td>\n",
              "      <td>0</td>\n",
              "      <td>0</td>\n",
              "    </tr>\n",
              "    <tr>\n",
              "      <th>2686</th>\n",
              "      <td>0</td>\n",
              "      <td>1</td>\n",
              "      <td>0</td>\n",
              "      <td>0</td>\n",
              "      <td>0</td>\n",
              "    </tr>\n",
              "    <tr>\n",
              "      <th>2687</th>\n",
              "      <td>0</td>\n",
              "      <td>1</td>\n",
              "      <td>0</td>\n",
              "      <td>0</td>\n",
              "      <td>0</td>\n",
              "    </tr>\n",
              "    <tr>\n",
              "      <th>2688</th>\n",
              "      <td>0</td>\n",
              "      <td>1</td>\n",
              "      <td>0</td>\n",
              "      <td>0</td>\n",
              "      <td>0</td>\n",
              "    </tr>\n",
              "  </tbody>\n",
              "</table>\n",
              "<p>2689 rows × 5 columns</p>\n",
              "</div>"
            ],
            "text/plain": [
              "      -2  -1   0   1   2\n",
              "0      0   0   1   0   0\n",
              "1      0   0   1   0   0\n",
              "2      0   0   1   0   0\n",
              "3      0   1   0   0   0\n",
              "4      0   0   0   1   0\n",
              "...   ..  ..  ..  ..  ..\n",
              "2684   0   1   0   0   0\n",
              "2685   0   1   0   0   0\n",
              "2686   0   1   0   0   0\n",
              "2687   0   1   0   0   0\n",
              "2688   0   1   0   0   0\n",
              "\n",
              "[2689 rows x 5 columns]"
            ]
          },
          "metadata": {
            "tags": []
          },
          "execution_count": 10
        }
      ]
    },
    {
      "cell_type": "code",
      "metadata": {
        "id": "I8Y4fJZZ4vfg"
      },
      "source": [
        "vocab_size = 1000\r\n",
        "embedding_dim = 100\r\n",
        "max_length = 30\r\n",
        "trunc_type='post'\r\n",
        "oov_tok = \"<OOV>\"\r\n",
        "\r\n",
        "\r\n",
        "from tensorflow.keras.preprocessing.text import Tokenizer\r\n",
        "from tensorflow.keras.preprocessing.sequence import pad_sequences\r\n",
        "\r\n",
        "tokenizer = Tokenizer(num_words = vocab_size, oov_token=oov_tok)\r\n",
        "tokenizer.fit_on_texts(df2.text)\r\n",
        "word_index = tokenizer.word_index\r\n",
        "sequences = tokenizer.texts_to_sequences(df2.text)\r\n",
        "padded = pad_sequences(sequences,maxlen=max_length, padding='post')"
      ],
      "execution_count": null,
      "outputs": []
    },
    {
      "cell_type": "code",
      "metadata": {
        "colab": {
          "base_uri": "https://localhost:8080/"
        },
        "id": "8gV-MOf243CK",
        "outputId": "807168c6-37b3-4feb-e3e1-b9404d00993f"
      },
      "source": [
        "model = tf.keras.Sequential([\r\n",
        "    tf.keras.layers.Embedding(vocab_size, embedding_dim, input_length=max_length, trainable=True),\r\n",
        "    tf.keras.layers.Bidirectional(tf.keras.layers.LSTM(300, return_sequences=False)),\r\n",
        "    tf.keras.layers.Dense(y.shape[1], activation='softmax')\r\n",
        "])\r\n",
        "model.compile(loss='categorical_crossentropy',optimizer='adam',metrics=['accuracy'])\r\n",
        "model.summary()\r\n"
      ],
      "execution_count": null,
      "outputs": [
        {
          "output_type": "stream",
          "text": [
            "Model: \"sequential\"\n",
            "_________________________________________________________________\n",
            "Layer (type)                 Output Shape              Param #   \n",
            "=================================================================\n",
            "embedding (Embedding)        (None, 30, 100)           100000    \n",
            "_________________________________________________________________\n",
            "bidirectional (Bidirectional (None, 600)               962400    \n",
            "_________________________________________________________________\n",
            "dense (Dense)                (None, 5)                 3005      \n",
            "=================================================================\n",
            "Total params: 1,065,405\n",
            "Trainable params: 1,065,405\n",
            "Non-trainable params: 0\n",
            "_________________________________________________________________\n"
          ],
          "name": "stdout"
        }
      ]
    },
    {
      "cell_type": "code",
      "metadata": {
        "id": "hKvhHOF65AUw"
      },
      "source": [
        "from sklearn.model_selection import train_test_split\r\n",
        "\r\n",
        "X_train, X_test, y_train, y_test = train_test_split(padded, y, test_size=0.2, shuffle=True)"
      ],
      "execution_count": null,
      "outputs": []
    },
    {
      "cell_type": "code",
      "metadata": {
        "colab": {
          "base_uri": "https://localhost:8080/"
        },
        "id": "SBS08KiB5EeR",
        "outputId": "42d57773-3fb4-4612-d4a7-e157ca76d16b"
      },
      "source": [
        "num_epochs = 6\r\n",
        "history = model.fit(X_train, y_train, epochs=num_epochs, validation_data=(X_test, y_test))"
      ],
      "execution_count": null,
      "outputs": [
        {
          "output_type": "stream",
          "text": [
            "Epoch 1/6\n",
            "68/68 [==============================] - 23s 289ms/step - loss: 1.3935 - accuracy: 0.3813 - val_loss: 1.3080 - val_accuracy: 0.4480\n",
            "Epoch 2/6\n",
            "68/68 [==============================] - 18s 270ms/step - loss: 1.1613 - accuracy: 0.5391 - val_loss: 1.1585 - val_accuracy: 0.5409\n",
            "Epoch 3/6\n",
            "68/68 [==============================] - 18s 270ms/step - loss: 0.9521 - accuracy: 0.6202 - val_loss: 1.1246 - val_accuracy: 0.5465\n",
            "Epoch 4/6\n",
            "68/68 [==============================] - 18s 272ms/step - loss: 0.8916 - accuracy: 0.6583 - val_loss: 1.1321 - val_accuracy: 0.5409\n",
            "Epoch 5/6\n",
            "68/68 [==============================] - 18s 269ms/step - loss: 0.7491 - accuracy: 0.7017 - val_loss: 1.2131 - val_accuracy: 0.5446\n",
            "Epoch 6/6\n",
            "68/68 [==============================] - 18s 270ms/step - loss: 0.7054 - accuracy: 0.7201 - val_loss: 1.2110 - val_accuracy: 0.5446\n"
          ],
          "name": "stdout"
        }
      ]
    },
    {
      "cell_type": "code",
      "metadata": {
        "colab": {
          "base_uri": "https://localhost:8080/"
        },
        "id": "H010FW5m5JiZ",
        "outputId": "6c7035f7-414c-4a8d-8ff0-e4259bf99edc"
      },
      "source": [
        "model.evaluate(X_test, y_test)"
      ],
      "execution_count": null,
      "outputs": [
        {
          "output_type": "stream",
          "text": [
            "17/17 [==============================] - 1s 70ms/step - loss: 1.2110 - accuracy: 0.5446\n"
          ],
          "name": "stdout"
        },
        {
          "output_type": "execute_result",
          "data": {
            "text/plain": [
              "[1.2110029458999634, 0.5446096658706665]"
            ]
          },
          "metadata": {
            "tags": []
          },
          "execution_count": 15
        }
      ]
    },
    {
      "cell_type": "code",
      "metadata": {
        "colab": {
          "base_uri": "https://localhost:8080/"
        },
        "id": "7iUKHDmo5vY4",
        "outputId": "f3b32de5-f298-4557-f130-5f2d3a264bac"
      },
      "source": [
        "pred = model.predict(X_test)\r\n",
        "\r\n",
        "for i in range(len(pred)):\r\n",
        "  if pred[i][0]==pred[i].max():\r\n",
        "    pred[i][0] = 1\r\n",
        "    pred[i][1] = 0\r\n",
        "    pred[i][2] = 0\r\n",
        "    pred[i][3] = 0\r\n",
        "    pred[i][4] = 0\r\n",
        "    \r\n",
        "  \r\n",
        "  elif pred[i][1]==pred[i].max():\r\n",
        "    pred[i][0] = 0\r\n",
        "    pred[i][1] = 1\r\n",
        "    pred[i][2] = 0\r\n",
        "    pred[i][3] = 0\r\n",
        "    pred[i][4] = 0\r\n",
        "\r\n",
        "  elif pred[i][2]==pred[i].max():\r\n",
        "    pred[i][0] = 0\r\n",
        "    pred[i][1] = 0\r\n",
        "    pred[i][2] = 1\r\n",
        "    pred[i][3] = 0\r\n",
        "    pred[i][4] = 0\r\n",
        "  \r\n",
        "  elif pred[i][3]==pred[i].max():\r\n",
        "    pred[i][0] = 0\r\n",
        "    pred[i][1] = 0\r\n",
        "    pred[i][2] = 0\r\n",
        "    pred[i][3] = 1\r\n",
        "    pred[i][4] = 0\r\n",
        "\r\n",
        "  else:\r\n",
        "    pred[i][0] = 0\r\n",
        "    pred[i][1] = 0\r\n",
        "    pred[i][2] = 0\r\n",
        "    pred[i][3] = 0\r\n",
        "    pred[i][4] = 1\r\n",
        "\r\n",
        "  \r\n",
        "pred[0]"
      ],
      "execution_count": null,
      "outputs": [
        {
          "output_type": "execute_result",
          "data": {
            "text/plain": [
              "array([0., 0., 1., 0., 0.], dtype=float32)"
            ]
          },
          "metadata": {
            "tags": []
          },
          "execution_count": 16
        }
      ]
    },
    {
      "cell_type": "code",
      "metadata": {
        "colab": {
          "base_uri": "https://localhost:8080/"
        },
        "id": "pgcIMDba57xp",
        "outputId": "c9c7882c-1967-4102-9eb9-ae46a96b6280"
      },
      "source": [
        "from sklearn.metrics import f1_score\r\n",
        "f1_score(y_test, pred, average='weighted')"
      ],
      "execution_count": null,
      "outputs": [
        {
          "output_type": "execute_result",
          "data": {
            "text/plain": [
              "0.5446096654275093"
            ]
          },
          "metadata": {
            "tags": []
          },
          "execution_count": 17
        }
      ]
    },
    {
      "cell_type": "code",
      "metadata": {
        "id": "f3Y2rHv16AD5",
        "colab": {
          "base_uri": "https://localhost:8080/"
        },
        "outputId": "ba35e5c6-2ce1-4894-a058-80f9a3922733"
      },
      "source": [
        "from sklearn.metrics import f1_score\r\n",
        "f1_score(y_test, pred, average='weighted')"
      ],
      "execution_count": null,
      "outputs": [
        {
          "output_type": "execute_result",
          "data": {
            "text/plain": [
              "0.5153070752641374"
            ]
          },
          "metadata": {
            "tags": []
          },
          "execution_count": 18
        }
      ]
    },
    {
      "cell_type": "code",
      "metadata": {
        "id": "eEOEv3IQANiK"
      },
      "source": [
        ""
      ],
      "execution_count": null,
      "outputs": []
    }
  ]
}