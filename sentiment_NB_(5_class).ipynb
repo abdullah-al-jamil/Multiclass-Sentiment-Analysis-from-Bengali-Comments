{
  "nbformat": 4,
  "nbformat_minor": 0,
  "metadata": {
    "colab": {
      "name": "sentiment NB (5 class).ipynb",
      "provenance": [],
      "authorship_tag": "ABX9TyPKPl8mP+JPwHRYAW8iTGS7",
      "include_colab_link": true
    },
    "kernelspec": {
      "name": "python3",
      "display_name": "Python 3"
    }
  },
  "cells": [
    {
      "cell_type": "markdown",
      "metadata": {
        "id": "view-in-github",
        "colab_type": "text"
      },
      "source": [
        "<a href=\"https://colab.research.google.com/github/abdullah-al-jamil/Sentiment-Analysis/blob/main/sentiment_NB_(5_class).ipynb\" target=\"_parent\"><img src=\"https://colab.research.google.com/assets/colab-badge.svg\" alt=\"Open In Colab\"/></a>"
      ]
    },
    {
      "cell_type": "code",
      "metadata": {
        "id": "7ciFpjFJxX1M"
      },
      "source": [
        "try: \r\n",
        "  %tensorflow_version 2.x\r\n",
        "except Exception:\r\n",
        "  pass\r\n",
        "\r\n",
        "import tensorflow as tf\r\n",
        "keras = tf.keras"
      ],
      "execution_count": null,
      "outputs": []
    },
    {
      "cell_type": "code",
      "metadata": {
        "id": "j55WHN8MxrtE"
      },
      "source": [
        "import gensim, re\r\n",
        "import numpy as np\r\n",
        "import pandas as pd"
      ],
      "execution_count": null,
      "outputs": []
    },
    {
      "cell_type": "code",
      "metadata": {
        "colab": {
          "base_uri": "https://localhost:8080/"
        },
        "id": "Hxby84uFxuB6",
        "outputId": "2bee903d-a94a-4ead-8c45-e2515c22fcb3"
      },
      "source": [
        "!wget https://raw.githubusercontent.com/abdullah-al-jamil/Emotion-and-Sentiment-Analysis/main/Sentiment.csv -P \"/content/drive/My Drive/app\""
      ],
      "execution_count": null,
      "outputs": [
        {
          "output_type": "stream",
          "text": [
            "--2021-01-11 14:08:54--  https://raw.githubusercontent.com/abdullah-al-jamil/Emotion-and-Sentiment-Analysis/main/Sentiment.csv\n",
            "Resolving raw.githubusercontent.com (raw.githubusercontent.com)... 151.101.0.133, 151.101.64.133, 151.101.128.133, ...\n",
            "Connecting to raw.githubusercontent.com (raw.githubusercontent.com)|151.101.0.133|:443... connected.\n",
            "HTTP request sent, awaiting response... 200 OK\n",
            "Length: 1235571 (1.2M) [text/plain]\n",
            "Saving to: ‘/content/drive/My Drive/app/Sentiment.csv’\n",
            "\n",
            "Sentiment.csv       100%[===================>]   1.18M  --.-KB/s    in 0.05s   \n",
            "\n",
            "2021-01-11 14:08:55 (23.5 MB/s) - ‘/content/drive/My Drive/app/Sentiment.csv’ saved [1235571/1235571]\n",
            "\n"
          ],
          "name": "stdout"
        }
      ]
    },
    {
      "cell_type": "code",
      "metadata": {
        "colab": {
          "base_uri": "https://localhost:8080/",
          "height": 204
        },
        "id": "Q3MRt_uCxzwR",
        "outputId": "67c6564c-fe99-455f-f473-a825e0c52fb9"
      },
      "source": [
        "df = pd.read_csv('/content/drive/My Drive/app/Sentiment.csv', sep=';')\r\n",
        "df.head(5)"
      ],
      "execution_count": null,
      "outputs": [
        {
          "output_type": "execute_result",
          "data": {
            "text/html": [
              "<div>\n",
              "<style scoped>\n",
              "    .dataframe tbody tr th:only-of-type {\n",
              "        vertical-align: middle;\n",
              "    }\n",
              "\n",
              "    .dataframe tbody tr th {\n",
              "        vertical-align: top;\n",
              "    }\n",
              "\n",
              "    .dataframe thead th {\n",
              "        text-align: right;\n",
              "    }\n",
              "</style>\n",
              "<table border=\"1\" class=\"dataframe\">\n",
              "  <thead>\n",
              "    <tr style=\"text-align: right;\">\n",
              "      <th></th>\n",
              "      <th>id</th>\n",
              "      <th>text</th>\n",
              "      <th>label</th>\n",
              "      <th>score</th>\n",
              "      <th>lan</th>\n",
              "      <th>domain</th>\n",
              "    </tr>\n",
              "  </thead>\n",
              "  <tbody>\n",
              "    <tr>\n",
              "      <th>0</th>\n",
              "      <td>2283</td>\n",
              "      <td>Your are very good. keep it up</td>\n",
              "      <td>1</td>\n",
              "      <td>1</td>\n",
              "      <td>EN</td>\n",
              "      <td>funny_video</td>\n",
              "    </tr>\n",
              "    <tr>\n",
              "      <th>1</th>\n",
              "      <td>2286</td>\n",
              "      <td>চাকিপ ক্যানের মুবি রিব্যু বেচি বেচি</td>\n",
              "      <td>1</td>\n",
              "      <td>0</td>\n",
              "      <td>BN</td>\n",
              "      <td>funny_video</td>\n",
              "    </tr>\n",
              "    <tr>\n",
              "      <th>2</th>\n",
              "      <td>2289</td>\n",
              "      <td>আপনি বাংলাদেশী এইটা সত্যি অবাক করার বিষয়</td>\n",
              "      <td>1</td>\n",
              "      <td>0</td>\n",
              "      <td>BN</td>\n",
              "      <td>funny_video</td>\n",
              "    </tr>\n",
              "    <tr>\n",
              "      <th>3</th>\n",
              "      <td>2296</td>\n",
              "      <td>নতুন নতুন সিমেনার চাই</td>\n",
              "      <td>1</td>\n",
              "      <td>0</td>\n",
              "      <td>BN</td>\n",
              "      <td>funny_video</td>\n",
              "    </tr>\n",
              "    <tr>\n",
              "      <th>4</th>\n",
              "      <td>2300</td>\n",
              "      <td>Eto buddhi kibhabe shomvob</td>\n",
              "      <td>2</td>\n",
              "      <td>1</td>\n",
              "      <td>RN</td>\n",
              "      <td>funny_video</td>\n",
              "    </tr>\n",
              "  </tbody>\n",
              "</table>\n",
              "</div>"
            ],
            "text/plain": [
              "     id                                      text  ...  lan       domain\n",
              "0  2283            Your are very good. keep it up  ...   EN  funny_video\n",
              "1  2286       চাকিপ ক্যানের মুবি রিব্যু বেচি বেচি  ...   BN  funny_video\n",
              "2  2289  আপনি বাংলাদেশী এইটা সত্যি অবাক করার বিষয়  ...   BN  funny_video\n",
              "3  2296                     নতুন নতুন সিমেনার চাই  ...   BN  funny_video\n",
              "4  2300                Eto buddhi kibhabe shomvob  ...   RN  funny_video\n",
              "\n",
              "[5 rows x 6 columns]"
            ]
          },
          "metadata": {
            "tags": []
          },
          "execution_count": 4
        }
      ]
    },
    {
      "cell_type": "code",
      "metadata": {
        "colab": {
          "base_uri": "https://localhost:8080/"
        },
        "id": "jfRBjvOIx3HR",
        "outputId": "c0525c8d-6899-40e5-d57d-92aab3b3f227"
      },
      "source": [
        "df1 = df[df.lan=='BN']\r\n",
        "len(df1)"
      ],
      "execution_count": null,
      "outputs": [
        {
          "output_type": "execute_result",
          "data": {
            "text/plain": [
              "2797"
            ]
          },
          "metadata": {
            "tags": []
          },
          "execution_count": 5
        }
      ]
    },
    {
      "cell_type": "code",
      "metadata": {
        "colab": {
          "base_uri": "https://localhost:8080/"
        },
        "id": "W8WvF8Gwx6gY",
        "outputId": "5227c5c5-995c-44ec-99e3-a26f2400f315"
      },
      "source": [
        "!wget https://raw.githubusercontent.com/abdullah-al-jamil/Emotion-and-Sentiment-Analysis/main/stop_words.txt -P \"/content/drive/My Drive/app\"\r\n",
        "with open('/content/drive/My Drive/app/stop_words.txt', \"r\") as file1:\r\n",
        "    stopwords = file1.read()"
      ],
      "execution_count": null,
      "outputs": [
        {
          "output_type": "stream",
          "text": [
            "--2021-01-11 14:09:49--  https://raw.githubusercontent.com/abdullah-al-jamil/Emotion-and-Sentiment-Analysis/main/stop_words.txt\n",
            "Resolving raw.githubusercontent.com (raw.githubusercontent.com)... 151.101.0.133, 151.101.64.133, 151.101.128.133, ...\n",
            "Connecting to raw.githubusercontent.com (raw.githubusercontent.com)|151.101.0.133|:443... connected.\n",
            "HTTP request sent, awaiting response... 200 OK\n",
            "Length: 10442 (10K) [text/plain]\n",
            "Saving to: ‘/content/drive/My Drive/app/stop_words.txt’\n",
            "\n",
            "stop_words.txt      100%[===================>]  10.20K  --.-KB/s    in 0s      \n",
            "\n",
            "2021-01-11 14:09:49 (99.7 MB/s) - ‘/content/drive/My Drive/app/stop_words.txt’ saved [10442/10442]\n",
            "\n"
          ],
          "name": "stdout"
        }
      ]
    },
    {
      "cell_type": "code",
      "metadata": {
        "colab": {
          "base_uri": "https://localhost:8080/",
          "height": 289
        },
        "id": "i5H5i1_myBHR",
        "outputId": "a1fc3920-c0bc-4fdf-a457-4783fe3c18de"
      },
      "source": [
        "def pre_process(sentence):\r\n",
        "  #remove link\r\n",
        "  sentence = re.sub(r'https?:\\/\\/.*[\\r\\n]*', '', sentence)\r\n",
        "  sentence = re.sub(r'[^\\u0980-\\u09FF ]+', '', sentence)\r\n",
        "  words = sentence.split()\r\n",
        "  new_sentence = ''\r\n",
        "\r\n",
        "  for word in words:\r\n",
        "    if word not in stopwords:\r\n",
        "      new_sentence += (word + \" \")\r\n",
        "  return new_sentence\r\n",
        "\r\n",
        "sentences = []\r\n",
        "temp_sentences = df1['text']\r\n",
        "\r\n",
        "for i in temp_sentences:\r\n",
        "  sentences.append(pre_process(i))\r\n",
        "\r\n",
        "df1['text'] = sentences\r\n",
        "df1.head()\r\n"
      ],
      "execution_count": null,
      "outputs": [
        {
          "output_type": "stream",
          "text": [
            "/usr/local/lib/python3.6/dist-packages/ipykernel_launcher.py:19: SettingWithCopyWarning: \n",
            "A value is trying to be set on a copy of a slice from a DataFrame.\n",
            "Try using .loc[row_indexer,col_indexer] = value instead\n",
            "\n",
            "See the caveats in the documentation: https://pandas.pydata.org/pandas-docs/stable/user_guide/indexing.html#returning-a-view-versus-a-copy\n"
          ],
          "name": "stderr"
        },
        {
          "output_type": "execute_result",
          "data": {
            "text/html": [
              "<div>\n",
              "<style scoped>\n",
              "    .dataframe tbody tr th:only-of-type {\n",
              "        vertical-align: middle;\n",
              "    }\n",
              "\n",
              "    .dataframe tbody tr th {\n",
              "        vertical-align: top;\n",
              "    }\n",
              "\n",
              "    .dataframe thead th {\n",
              "        text-align: right;\n",
              "    }\n",
              "</style>\n",
              "<table border=\"1\" class=\"dataframe\">\n",
              "  <thead>\n",
              "    <tr style=\"text-align: right;\">\n",
              "      <th></th>\n",
              "      <th>id</th>\n",
              "      <th>text</th>\n",
              "      <th>label</th>\n",
              "      <th>score</th>\n",
              "      <th>lan</th>\n",
              "      <th>domain</th>\n",
              "    </tr>\n",
              "  </thead>\n",
              "  <tbody>\n",
              "    <tr>\n",
              "      <th>1</th>\n",
              "      <td>2286</td>\n",
              "      <td>চাকিপ ক্যানের মুবি রিব্যু বেচি বেচি</td>\n",
              "      <td>1</td>\n",
              "      <td>0</td>\n",
              "      <td>BN</td>\n",
              "      <td>funny_video</td>\n",
              "    </tr>\n",
              "    <tr>\n",
              "      <th>2</th>\n",
              "      <td>2289</td>\n",
              "      <td>বাংলাদেশী এইটা সত্যি অবাক</td>\n",
              "      <td>1</td>\n",
              "      <td>0</td>\n",
              "      <td>BN</td>\n",
              "      <td>funny_video</td>\n",
              "    </tr>\n",
              "    <tr>\n",
              "      <th>3</th>\n",
              "      <td>2296</td>\n",
              "      <td>সিমেনার চাই</td>\n",
              "      <td>1</td>\n",
              "      <td>0</td>\n",
              "      <td>BN</td>\n",
              "      <td>funny_video</td>\n",
              "    </tr>\n",
              "    <tr>\n",
              "      <th>8</th>\n",
              "      <td>2318</td>\n",
              "      <td>হালা গোরা হালা</td>\n",
              "      <td>1</td>\n",
              "      <td>-1</td>\n",
              "      <td>BN</td>\n",
              "      <td>funny_video</td>\n",
              "    </tr>\n",
              "    <tr>\n",
              "      <th>9</th>\n",
              "      <td>2319</td>\n",
              "      <td>সুপার দুপার</td>\n",
              "      <td>1</td>\n",
              "      <td>1</td>\n",
              "      <td>BN</td>\n",
              "      <td>funny_video</td>\n",
              "    </tr>\n",
              "  </tbody>\n",
              "</table>\n",
              "</div>"
            ],
            "text/plain": [
              "     id                                  text  label  score lan       domain\n",
              "1  2286  চাকিপ ক্যানের মুবি রিব্যু বেচি বেচি       1      0  BN  funny_video\n",
              "2  2289            বাংলাদেশী এইটা সত্যি অবাক       1      0  BN  funny_video\n",
              "3  2296                          সিমেনার চাই       1      0  BN  funny_video\n",
              "8  2318                       হালা গোরা হালা       1     -1  BN  funny_video\n",
              "9  2319                          সুপার দুপার       1      1  BN  funny_video"
            ]
          },
          "metadata": {
            "tags": []
          },
          "execution_count": 8
        }
      ]
    },
    {
      "cell_type": "code",
      "metadata": {
        "colab": {
          "base_uri": "https://localhost:8080/"
        },
        "id": "breS3rWIyEMh",
        "outputId": "039046b4-f333-496a-dcc5-bee862c74a3a"
      },
      "source": [
        "labels = []\r\n",
        "for i in df1['score']:\r\n",
        "  labels.append(i)\r\n",
        "\r\n",
        "y = np.array(labels)\r\n",
        "print(type(y), y.shape)"
      ],
      "execution_count": null,
      "outputs": [
        {
          "output_type": "stream",
          "text": [
            "<class 'numpy.ndarray'> (2797,)\n"
          ],
          "name": "stdout"
        }
      ]
    },
    {
      "cell_type": "code",
      "metadata": {
        "id": "hsSocUmXySiB"
      },
      "source": [
        "from sklearn.model_selection import train_test_split\r\n",
        "\r\n",
        "X_train, X_test, y_train, y_test = train_test_split(df1.text, df1.score, test_size=0.2, shuffle=True)"
      ],
      "execution_count": null,
      "outputs": []
    },
    {
      "cell_type": "code",
      "metadata": {
        "id": "oBi893l2yYWx"
      },
      "source": [
        "from sklearn.feature_extraction.text import CountVectorizer\r\n",
        "v = CountVectorizer()"
      ],
      "execution_count": null,
      "outputs": []
    },
    {
      "cell_type": "code",
      "metadata": {
        "id": "YRgzpDxVycWx"
      },
      "source": [
        "X_train_count = v.fit_transform(X_train.values)\r\n"
      ],
      "execution_count": null,
      "outputs": []
    },
    {
      "cell_type": "code",
      "metadata": {
        "colab": {
          "base_uri": "https://localhost:8080/"
        },
        "id": "yOquEhBKyxLp",
        "outputId": "cec0ec24-b43a-4d5c-c806-d1a7ecf5b300"
      },
      "source": [
        "from sklearn.naive_bayes import MultinomialNB\r\n",
        "model = MultinomialNB()\r\n",
        "model.fit(X_train_count, y_train)"
      ],
      "execution_count": null,
      "outputs": [
        {
          "output_type": "execute_result",
          "data": {
            "text/plain": [
              "MultinomialNB(alpha=1.0, class_prior=None, fit_prior=True)"
            ]
          },
          "metadata": {
            "tags": []
          },
          "execution_count": 13
        }
      ]
    },
    {
      "cell_type": "code",
      "metadata": {
        "colab": {
          "base_uri": "https://localhost:8080/"
        },
        "id": "VYCi8apFy0dI",
        "outputId": "88b2d40a-cf04-4545-d311-238762e5ff80"
      },
      "source": [
        "X_test_count = v.transform(X_test)\r\n",
        "model.score(X_test_count, y_test)"
      ],
      "execution_count": null,
      "outputs": [
        {
          "output_type": "execute_result",
          "data": {
            "text/plain": [
              "0.49107142857142855"
            ]
          },
          "metadata": {
            "tags": []
          },
          "execution_count": 14
        }
      ]
    },
    {
      "cell_type": "code",
      "metadata": {
        "colab": {
          "base_uri": "https://localhost:8080/"
        },
        "id": "MvsX-fmLy6YM",
        "outputId": "42dd718d-3fec-4c96-8c1c-f70ff6d36845"
      },
      "source": [
        "pred = model.predict(X_test_count)\r\n",
        "from sklearn.metrics import f1_score\r\n",
        "f1_score(y_test, pred, average='weighted')"
      ],
      "execution_count": null,
      "outputs": [
        {
          "output_type": "execute_result",
          "data": {
            "text/plain": [
              "0.45006953945570194"
            ]
          },
          "metadata": {
            "tags": []
          },
          "execution_count": 15
        }
      ]
    },
    {
      "cell_type": "code",
      "metadata": {
        "id": "WG2GVTSRzVt5"
      },
      "source": [
        ""
      ],
      "execution_count": null,
      "outputs": []
    }
  ]
}